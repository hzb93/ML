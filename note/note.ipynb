{
 "cells": [
  {
   "cell_type": "markdown",
   "metadata": {},
   "source": [
    "生成requirements.txt  \n",
    "pip freeze > requirements.txt"
   ]
  },
  {
   "cell_type": "markdown",
   "metadata": {},
   "source": [
    "检查运行中的python进程:  \n",
    "ps -aux | grep python  \n",
    "kill -9 ***进程号  \n",
    "  \n",
    "linux 下杀死所有python 进程  \n",
    "ps aux|grep python|grep -v grep|cut -c 9-15|xargs kill -15  \n",
    "  \n",
    "  \n",
    "  \n",
    "说明：\n",
    "  \n",
    "管道符“|”用来隔开两个命令，管道符左边命令的输出会作为管道符右边命令的输入。下面说说用管道符联接起来的  \n",
    "  \n",
    "几个命令：  \n",
    "  \n",
    "“ps aux”是linux 里查看所有进程的命令。这时检索出的进程将作为下一条命令“grep python”的输入。  \n",
    "  \n",
    "“grep python”的输出结果是，所有含有关键字“python”的进程，这是python程序  \n",
    "  \n",
    "“grep -v grep”是在列出的进程中去除含有关键字“grep”的进程。  \n",
    "  \n",
    "“cut -c 9-15”是截取输入行的第9个字符到第15个字符，而这正好是进程号PID。  \n",
    "  \n",
    "“xargs kill -15”中的xargs命令是用来把前面命令的输出结果（PID）作为“kill -15”命令的参数，并执行该令。  \n",
    "  \n",
    "“kill -15”会正常退出指定进程，-9强行杀掉  "
   ]
  },
  {
   "cell_type": "markdown",
   "metadata": {},
   "source": [
    "安装虚拟环境的命令 :  \n",
    "sudo pip install virtualenv  \n",
    "sudo pip install virtualenvwrapper  \n",
    "  \n",
    "安装完虚拟环境后，如果提示找不到mkvirtualenv命令，须配置环境变量：  \n",
    "1、创建目录用来存放虚拟环境  \n",
    "mkdir  \n",
    "$HOME/.virtualenvs  \n",
    "   \n",
    "2、打开~/.bashrc文件，并添加如下：  \n",
    "export WORKON_HOME=$HOME/.virtualenvs  \n",
    "source /usr/local/bin/virtualenvwrapper.sh  \n",
    "   \n",
    "3、运行  \n",
    "source ~/.bashrc  \n",
    "  \n",
    "创建虚拟环境的命令 :  \n",
    "  \n",
    "在python3中，创建虚拟环境  \n",
    "  \n",
    "mkvirtualenv -p python3 虚拟环境名称  \n",
    "\n",
    "使用虚拟环境的命令 :  \n",
    "workon 虚拟环境名称  \n",
    "  \n",
    "退出虚拟环境的命令：  \n",
    "deactivate  \n",
    "  \n",
    "删除虚拟环境的命令：  \n",
    "rmvirtualenv 虚拟环境名称  \n"
   ]
  },
  {
   "cell_type": "markdown",
   "metadata": {},
   "source": [
    "viztracer D:\\ML\\code\\python\\tmp\\test.py  \n",
    "vizviewer D:\\ML\\result.json"
   ]
  }
 ],
 "metadata": {
  "interpreter": {
   "hash": "d7308bc2fa8fc77bafba54614df3fbbbd87e7ed73567683a3ee020857904bb22"
  },
  "kernelspec": {
   "display_name": "Python 3 (ipykernel)",
   "language": "python",
   "name": "python3"
  },
  "language_info": {
   "name": "python",
   "version": "3.7.13"
  },
  "orig_nbformat": 4
 },
 "nbformat": 4,
 "nbformat_minor": 2
}
