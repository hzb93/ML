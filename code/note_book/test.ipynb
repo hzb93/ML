{
 "cells": [
  {
   "cell_type": "code",
   "execution_count": null,
   "metadata": {},
   "outputs": [],
   "source": [
    "import os\n",
    "import configparser\n",
    "\n",
    "def read_config(option):\n",
    "    cfgpath=os.path.join(os.getcwd(),\"config/force.ini\")\n",
    "    conf = configparser.ConfigParser()\n",
    "    conf.read(cfgpath)\n",
    "    return dict(conf.items(option))"
   ]
  },
  {
   "cell_type": "code",
   "execution_count": null,
   "metadata": {},
   "outputs": [],
   "source": [
    "import pandas as pd\n",
    "from pyhive import hive\n",
    "from datetime import datetime\n",
    "\n",
    "\n",
    "#读取配置\n",
    "hiveinfo = read_config('effective_hiveinfo')\n",
    "\n",
    "def hive_execute(sql, db = 'ods_g063_grt_all_db'):\n",
    "    \"\"\"\n",
    "\n",
    "    在hive里面执行sql语句\n",
    "\n",
    "    :param:sql - sql语句\n",
    "    :param: db  数据库名称\n",
    "\n",
    "    \"\"\"\n",
    "    conn = hive.Connection(\n",
    "        host=hiveinfo[\"ip\"],\n",
    "        port=hiveinfo[\"port\"],\n",
    "        auth=hiveinfo[\"auth\"],\n",
    "        database=db,\n",
    "        username=hiveinfo[\"user\"],\n",
    "        password=hiveinfo[\"password\"]\n",
    "    )\n",
    "    cur = conn.cursor()\n",
    "    hive_sqls = sql.split(\";\")\n",
    "    for exec_sql in hive_sqls:\n",
    "        print(exec_sql)\n",
    "        Start_time = datetime.now()\n",
    "        print(\"Start_time:\", Start_time)\n",
    "        cur.execute(exec_sql)\n",
    "        End_time = datetime.now()\n",
    "        print(\"End_time:\", datetime.now())\n",
    "        print(\"本次执行时长为：\" + str((End_time - Start_time).seconds) + \"s\\n\")\n",
    "    cur.close()\n",
    "    conn.close()\n",
    "\n",
    "\n",
    "def hive_to_df(sql, db = 'ods_g063_grt_all_db'):\n",
    "    \"\"\"\n",
    "    功能：将hive数据转换dataframe\n",
    "    注意：sql不需要带';'\n",
    "    :param:sql - sql语句\n",
    "    :param: db  数据库\n",
    "    return：dataframe数据\n",
    "    \"\"\"\n",
    "    conn = hive.Connection(\n",
    "        host=hiveinfo[\"ip\"],\n",
    "        port=hiveinfo[\"port\"],\n",
    "        auth=hiveinfo[\"auth\"],\n",
    "        database=db,\n",
    "        username=hiveinfo[\"user\"],\n",
    "        password=hiveinfo[\"password\"]\n",
    "    )\n",
    "    print(sql)\n",
    "    df = pd.read_sql(sql, conn)\n",
    "    columns = df.columns\n",
    "    columns_dict = {column: column.split(\".\")[-1] for column in columns}\n",
    "    df.rename(columns=columns_dict, inplace=True)\n",
    "    conn.close()\n",
    "    return df"
   ]
  },
  {
   "cell_type": "code",
   "execution_count": 1,
   "metadata": {},
   "outputs": [],
   "source": [
    "import tensorflow as tf"
   ]
  },
  {
   "cell_type": "code",
   "execution_count": 2,
   "metadata": {},
   "outputs": [
    {
     "data": {
      "text/plain": [
       "'2.3.0'"
      ]
     },
     "execution_count": 2,
     "metadata": {},
     "output_type": "execute_result"
    }
   ],
   "source": [
    "tf.__version__"
   ]
  },
  {
   "cell_type": "code",
   "execution_count": 3,
   "metadata": {},
   "outputs": [
    {
     "name": "stdout",
     "output_type": "stream",
     "text": [
      "tf.Tensor([[1.]], shape=(1, 1), dtype=float32)\n"
     ]
    }
   ],
   "source": [
    "x = [[1.]]\n",
    "m = tf.matmul(x,x)\n",
    "print(m)"
   ]
  }
 ],
 "metadata": {
  "interpreter": {
   "hash": "cadf55f6a730d1313d72b0ade6ff69e88d4017b198a6550da2ecec3c8bd080fc"
  },
  "kernelspec": {
   "display_name": "Python 3 (ipykernel)",
   "language": "python",
   "name": "python3"
  },
  "language_info": {
   "codemirror_mode": {
    "name": "ipython",
    "version": 3
   },
   "file_extension": ".py",
   "mimetype": "text/x-python",
   "name": "python",
   "nbconvert_exporter": "python",
   "pygments_lexer": "ipython3",
   "version": "3.7.9"
  },
  "orig_nbformat": 4
 },
 "nbformat": 4,
 "nbformat_minor": 2
}
