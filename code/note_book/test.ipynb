{
 "cells": [
  {
   "cell_type": "code",
   "execution_count": null,
   "metadata": {},
   "outputs": [],
   "source": [
    "import os\n",
    "import configparser\n",
    "\n",
    "def read_config(option):\n",
    "    cfgpath=os.path.join(os.getcwd(),\"config/force.ini\")\n",
    "    conf = configparser.ConfigParser()\n",
    "    conf.read(cfgpath)\n",
    "    return dict(conf.items(option))"
   ]
  },
  {
   "cell_type": "code",
   "execution_count": 3,
   "metadata": {},
   "outputs": [
    {
     "ename": "NoSectionError",
     "evalue": "No section: 'effective_hiveinfo'",
     "output_type": "error",
     "traceback": [
      "\u001b[0;31m---------------------------------------------------------------------------\u001b[0m",
      "\u001b[0;31mKeyError\u001b[0m                                  Traceback (most recent call last)",
      "\u001b[0;32m/usr/local/python3/lib/python3.7/configparser.py\u001b[0m in \u001b[0;36mitems\u001b[0;34m(self, section, raw, vars)\u001b[0m\n\u001b[1;32m    844\u001b[0m         \u001b[0;32mtry\u001b[0m\u001b[0;34m:\u001b[0m\u001b[0;34m\u001b[0m\u001b[0m\n\u001b[0;32m--> 845\u001b[0;31m             \u001b[0md\u001b[0m\u001b[0;34m.\u001b[0m\u001b[0mupdate\u001b[0m\u001b[0;34m(\u001b[0m\u001b[0mself\u001b[0m\u001b[0;34m.\u001b[0m\u001b[0m_sections\u001b[0m\u001b[0;34m[\u001b[0m\u001b[0msection\u001b[0m\u001b[0;34m]\u001b[0m\u001b[0;34m)\u001b[0m\u001b[0;34m\u001b[0m\u001b[0m\n\u001b[0m\u001b[1;32m    846\u001b[0m         \u001b[0;32mexcept\u001b[0m \u001b[0mKeyError\u001b[0m\u001b[0;34m:\u001b[0m\u001b[0;34m\u001b[0m\u001b[0m\n",
      "\u001b[0;31mKeyError\u001b[0m: 'effective_hiveinfo'",
      "\nDuring handling of the above exception, another exception occurred:\n",
      "\u001b[0;31mNoSectionError\u001b[0m                            Traceback (most recent call last)",
      "\u001b[0;32m/tmp/ipykernel_52682/84121809.py\u001b[0m in \u001b[0;36m<module>\u001b[0;34m\u001b[0m\n\u001b[1;32m      5\u001b[0m \u001b[0;34m\u001b[0m\u001b[0m\n\u001b[1;32m      6\u001b[0m \u001b[0;31m#读取配置\u001b[0m\u001b[0;34m\u001b[0m\u001b[0;34m\u001b[0m\u001b[0m\n\u001b[0;32m----> 7\u001b[0;31m \u001b[0mhiveinfo\u001b[0m \u001b[0;34m=\u001b[0m \u001b[0mread_config\u001b[0m\u001b[0;34m(\u001b[0m\u001b[0;34m'effective_hiveinfo'\u001b[0m\u001b[0;34m)\u001b[0m\u001b[0;34m\u001b[0m\u001b[0m\n\u001b[0m\u001b[1;32m      8\u001b[0m \u001b[0;34m\u001b[0m\u001b[0m\n\u001b[1;32m      9\u001b[0m \u001b[0;32mdef\u001b[0m \u001b[0mhive_execute\u001b[0m\u001b[0;34m(\u001b[0m\u001b[0msql\u001b[0m\u001b[0;34m,\u001b[0m \u001b[0mdb\u001b[0m \u001b[0;34m=\u001b[0m \u001b[0;34m'ods_g063_grt_all_db'\u001b[0m\u001b[0;34m)\u001b[0m\u001b[0;34m:\u001b[0m\u001b[0;34m\u001b[0m\u001b[0m\n",
      "\u001b[0;32m/tmp/ipykernel_52682/489651138.py\u001b[0m in \u001b[0;36mread_config\u001b[0;34m(option)\u001b[0m\n\u001b[1;32m      6\u001b[0m     \u001b[0mconf\u001b[0m \u001b[0;34m=\u001b[0m \u001b[0mconfigparser\u001b[0m\u001b[0;34m.\u001b[0m\u001b[0mConfigParser\u001b[0m\u001b[0;34m(\u001b[0m\u001b[0;34m)\u001b[0m\u001b[0;34m\u001b[0m\u001b[0m\n\u001b[1;32m      7\u001b[0m     \u001b[0mconf\u001b[0m\u001b[0;34m.\u001b[0m\u001b[0mread\u001b[0m\u001b[0;34m(\u001b[0m\u001b[0mcfgpath\u001b[0m\u001b[0;34m)\u001b[0m\u001b[0;34m\u001b[0m\u001b[0m\n\u001b[0;32m----> 8\u001b[0;31m     \u001b[0;32mreturn\u001b[0m \u001b[0mdict\u001b[0m\u001b[0;34m(\u001b[0m\u001b[0mconf\u001b[0m\u001b[0;34m.\u001b[0m\u001b[0mitems\u001b[0m\u001b[0;34m(\u001b[0m\u001b[0moption\u001b[0m\u001b[0;34m)\u001b[0m\u001b[0;34m)\u001b[0m\u001b[0;34m\u001b[0m\u001b[0m\n\u001b[0m",
      "\u001b[0;32m/usr/local/python3/lib/python3.7/configparser.py\u001b[0m in \u001b[0;36mitems\u001b[0;34m(self, section, raw, vars)\u001b[0m\n\u001b[1;32m    846\u001b[0m         \u001b[0;32mexcept\u001b[0m \u001b[0mKeyError\u001b[0m\u001b[0;34m:\u001b[0m\u001b[0;34m\u001b[0m\u001b[0m\n\u001b[1;32m    847\u001b[0m             \u001b[0;32mif\u001b[0m \u001b[0msection\u001b[0m \u001b[0;34m!=\u001b[0m \u001b[0mself\u001b[0m\u001b[0;34m.\u001b[0m\u001b[0mdefault_section\u001b[0m\u001b[0;34m:\u001b[0m\u001b[0;34m\u001b[0m\u001b[0m\n\u001b[0;32m--> 848\u001b[0;31m                 \u001b[0;32mraise\u001b[0m \u001b[0mNoSectionError\u001b[0m\u001b[0;34m(\u001b[0m\u001b[0msection\u001b[0m\u001b[0;34m)\u001b[0m\u001b[0;34m\u001b[0m\u001b[0m\n\u001b[0m\u001b[1;32m    849\u001b[0m         \u001b[0;31m# Update with the entry specific variables\u001b[0m\u001b[0;34m\u001b[0m\u001b[0;34m\u001b[0m\u001b[0m\n\u001b[1;32m    850\u001b[0m         \u001b[0;32mif\u001b[0m \u001b[0mvars\u001b[0m\u001b[0;34m:\u001b[0m\u001b[0;34m\u001b[0m\u001b[0m\n",
      "\u001b[0;31mNoSectionError\u001b[0m: No section: 'effective_hiveinfo'"
     ]
    }
   ],
   "source": [
    "import pandas as pd\n",
    "from pyhive import hive\n",
    "from datetime import datetime\n",
    "\n",
    "\n",
    "#读取配置\n",
    "hiveinfo = read_config('effective_hiveinfo')\n",
    "\n",
    "def hive_execute(sql, db = 'ods_g063_grt_all_db'):\n",
    "    \"\"\"\n",
    "\n",
    "    在hive里面执行sql语句\n",
    "\n",
    "    :param:sql - sql语句\n",
    "    :param: db  数据库名称\n",
    "\n",
    "    \"\"\"\n",
    "    conn = hive.Connection(\n",
    "        host=hiveinfo[\"ip\"],\n",
    "        port=hiveinfo[\"port\"],\n",
    "        auth=hiveinfo[\"auth\"],\n",
    "        database=db,\n",
    "        username=hiveinfo[\"user\"],\n",
    "        password=hiveinfo[\"password\"]\n",
    "    )\n",
    "    cur = conn.cursor()\n",
    "    hive_sqls = sql.split(\";\")\n",
    "    for exec_sql in hive_sqls:\n",
    "        print(exec_sql)\n",
    "        Start_time = datetime.now()\n",
    "        print(\"Start_time:\", Start_time)\n",
    "        cur.execute(exec_sql)\n",
    "        End_time = datetime.now()\n",
    "        print(\"End_time:\", datetime.now())\n",
    "        print(\"本次执行时长为：\" + str((End_time - Start_time).seconds) + \"s\\n\")\n",
    "    cur.close()\n",
    "    conn.close()\n",
    "\n",
    "\n",
    "def hive_to_df(sql, db = 'ods_g063_grt_all_db'):\n",
    "    \"\"\"\n",
    "    功能：将hive数据转换dataframe\n",
    "    注意：sql不需要带';'\n",
    "    :param:sql - sql语句\n",
    "    :param: db  数据库\n",
    "    return：dataframe数据\n",
    "    \"\"\"\n",
    "    conn = hive.Connection(\n",
    "        host=hiveinfo[\"ip\"],\n",
    "        port=hiveinfo[\"port\"],\n",
    "        auth=hiveinfo[\"auth\"],\n",
    "        database=db,\n",
    "        username=hiveinfo[\"user\"],\n",
    "        password=hiveinfo[\"password\"]\n",
    "    )\n",
    "    print(sql)\n",
    "    df = pd.read_sql(sql, conn)\n",
    "    columns = df.columns\n",
    "    columns_dict = {column: column.split(\".\")[-1] for column in columns}\n",
    "    df.rename(columns=columns_dict, inplace=True)\n",
    "    conn.close()\n",
    "    return df"
   ]
  }
 ],
 "metadata": {
  "interpreter": {
   "hash": "cadf55f6a730d1313d72b0ade6ff69e88d4017b198a6550da2ecec3c8bd080fc"
  },
  "kernelspec": {
   "display_name": "Python 3 (ipykernel)",
   "language": "python",
   "name": "python3"
  },
  "language_info": {
   "codemirror_mode": {
    "name": "ipython",
    "version": 3
   },
   "file_extension": ".py",
   "mimetype": "text/x-python",
   "name": "python",
   "nbconvert_exporter": "python",
   "pygments_lexer": "ipython3",
   "version": "3.7.9"
  },
  "orig_nbformat": 4
 },
 "nbformat": 4,
 "nbformat_minor": 2
}
