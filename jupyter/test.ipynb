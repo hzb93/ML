{
 "cells": [
  {
   "cell_type": "code",
   "execution_count": 38,
   "metadata": {},
   "outputs": [],
   "source": [
    "import pandas as pd\n",
    "import warnings\n",
    "warnings.filterwarnings(\"ignore\")"
   ]
  },
  {
   "cell_type": "code",
   "execution_count": null,
   "metadata": {},
   "outputs": [],
   "source": []
  },
  {
   "cell_type": "code",
   "execution_count": 65,
   "metadata": {},
   "outputs": [],
   "source": [
    "#df = pd.read_excel(r'C:\\Users\\hzb\\Desktop\\ceshi1.xlsx')\n",
    "advice_orders = df.copy()\n",
    "advice_orders['decompose_adjust'] = advice_orders['decompose']"
   ]
  },
  {
   "cell_type": "code",
   "execution_count": 67,
   "metadata": {},
   "outputs": [
    {
     "data": {
      "text/plain": [
       "16305"
      ]
     },
     "execution_count": 67,
     "metadata": {},
     "output_type": "execute_result"
    }
   ],
   "source": [
    "advice_orders['decompose_adjust'].sum()"
   ]
  },
  {
   "cell_type": "code",
   "execution_count": 64,
   "metadata": {},
   "outputs": [
    {
     "data": {
      "text/html": [
       "<div>\n",
       "<style scoped>\n",
       "    .dataframe tbody tr th:only-of-type {\n",
       "        vertical-align: middle;\n",
       "    }\n",
       "\n",
       "    .dataframe tbody tr th {\n",
       "        vertical-align: top;\n",
       "    }\n",
       "\n",
       "    .dataframe thead th {\n",
       "        text-align: right;\n",
       "    }\n",
       "</style>\n",
       "<table border=\"1\" class=\"dataframe\">\n",
       "  <thead>\n",
       "    <tr style=\"text-align: right;\">\n",
       "      <th></th>\n",
       "      <th>decompose</th>\n",
       "    </tr>\n",
       "  </thead>\n",
       "  <tbody>\n",
       "    <tr>\n",
       "      <th>0</th>\n",
       "      <td>3</td>\n",
       "    </tr>\n",
       "  </tbody>\n",
       "</table>\n",
       "</div>"
      ],
      "text/plain": [
       "   decompose\n",
       "0          3"
      ]
     },
     "execution_count": 64,
     "metadata": {},
     "output_type": "execute_result"
    }
   ],
   "source": [
    "advice_orders.loc[(advice_orders['dealer_code']=='DZJA110')&(advice_orders['series_code']=='AT2C')&(advice_orders['rank']==1),['decompose']]"
   ]
  },
  {
   "cell_type": "code",
   "execution_count": 62,
   "metadata": {},
   "outputs": [],
   "source": [
    "advice_orders.loc[(advice_orders['dealer_code']=='DZJA110')&(advice_orders['series_code']=='AT2C')&(advice_orders['rank']==1),['decompose']] = 3"
   ]
  },
  {
   "cell_type": "code",
   "execution_count": 66,
   "metadata": {},
   "outputs": [],
   "source": [
    "for d in advice_orders['dealer_code'].unique():\n",
    "    for s in advice_orders['series_code'][advice_orders['dealer_code']==d].unique():\n",
    "        df_tmp = advice_orders[(advice_orders['dealer_code']==d)&(advice_orders['series_code']==s)]\n",
    "        gap = df_tmp['advice'].iloc[0]-df_tmp['decompose_sum'].iloc[0]\n",
    "        r = 1\n",
    "        while gap != 0:\n",
    "            a = advice_orders[(advice_orders['dealer_code']==d)&(advice_orders['series_code']==s)&(advice_orders['rank']==r)]['decompose'].iloc[0]\n",
    "            gap = gap + a\n",
    "            if gap<0:\n",
    "                advice_orders.loc[(advice_orders['dealer_code']==d)&(advice_orders['series_code']==s)&(advice_orders['rank']==r),['decompose_adjust']] = 0\n",
    "                r+=1\n",
    "            else:\n",
    "                advice_orders.loc[(advice_orders['dealer_code']==d)&(advice_orders['series_code']==s)&(advice_orders['rank']==r),['decompose_adjust']] = gap\n",
    "                break"
   ]
  },
  {
   "cell_type": "code",
   "execution_count": null,
   "metadata": {},
   "outputs": [],
   "source": [
    "def adjust(df):\n",
    "    df['decompose_adjust'] = df['decompose']\n",
    "    for d in df['dealer_code'].unique():\n",
    "        for s in df['series_code'][df['dealer_code']==d].unique():\n",
    "            df_tmp = df[(df['dealer_code']==d)&(df['series_code']==s)]\n",
    "            gap = df_tmp['advice'].iloc[0]-df_tmp['decompose_sum'].iloc[0]\n",
    "            r = 1\n",
    "            while gap != 0:\n",
    "                a = df[(df['dealer_code']==d)&(df['series_code']==s)&(df['rank']==r)]['decompose'].iloc[0]\n",
    "                gap = gap + a\n",
    "                if gap<0:\n",
    "                    df.loc[(df['dealer_code']==d)&(df['series_code']==s)&(df['rank']==r),['decompose_adjust']] = 0\n",
    "                    r+=1\n",
    "                else:\n",
    "                    df.loc[(df['dealer_code']==d)&(df['series_code']==s)&(df['rank']==r),['decompose_adjust']] = gap\n",
    "                    break\n",
    "    return df"
   ]
  }
 ],
 "metadata": {
  "interpreter": {
   "hash": "cadf55f6a730d1313d72b0ade6ff69e88d4017b198a6550da2ecec3c8bd080fc"
  },
  "kernelspec": {
   "display_name": "Python 3 (ipykernel)",
   "language": "python",
   "name": "python3"
  },
  "language_info": {
   "codemirror_mode": {
    "name": "ipython",
    "version": 3
   },
   "file_extension": ".py",
   "mimetype": "text/x-python",
   "name": "python",
   "nbconvert_exporter": "python",
   "pygments_lexer": "ipython3",
   "version": "3.7.9"
  },
  "orig_nbformat": 4
 },
 "nbformat": 4,
 "nbformat_minor": 2
}
