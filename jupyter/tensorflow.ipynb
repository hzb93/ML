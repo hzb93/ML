{
 "cells": [
  {
   "cell_type": "markdown",
   "metadata": {},
   "source": [
    "导库"
   ]
  },
  {
   "cell_type": "code",
   "execution_count": 1,
   "metadata": {},
   "outputs": [],
   "source": [
    "import tensorflow as tf"
   ]
  },
  {
   "cell_type": "markdown",
   "metadata": {},
   "source": [
    "创建数据(Tensor)"
   ]
  },
  {
   "cell_type": "code",
   "execution_count": 2,
   "metadata": {},
   "outputs": [
    {
     "name": "stdout",
     "output_type": "stream",
     "text": [
      "/job:localhost/replica:0/task:0/device:CPU:0\n",
      "/job:localhost/replica:0/task:0/device:GPU:0\n"
     ]
    }
   ],
   "source": [
    "# 不同硬件上创建数据\n",
    "with tf.device(\"cpu\"):\n",
    "    a = tf.constant([1])\n",
    "with tf.device(\"GPU\"):\n",
    "    b = tf.constant([1])\n",
    "print(a.device)\n",
    "print(b.device)"
   ]
  },
  {
   "cell_type": "code",
   "execution_count": 3,
   "metadata": {},
   "outputs": [
    {
     "name": "stdout",
     "output_type": "stream",
     "text": [
      "tf.Tensor(1, shape=(), dtype=int32)\n",
      "tf.Tensor([1], shape=(1,), dtype=int32)\n",
      "tf.Tensor(\n",
      "[[1]\n",
      " [1]], shape=(2, 1), dtype=int32)\n",
      "tf.Tensor(1, shape=(), dtype=int32)\n",
      "tf.Tensor(1.0, shape=(), dtype=float32)\n",
      "tf.Tensor(1.0, shape=(), dtype=float64)\n",
      "tf.Tensor([ True False], shape=(2,), dtype=bool)\n",
      "tf.Tensor(b'hello word', shape=(), dtype=string)\n"
     ]
    }
   ],
   "source": [
    "print(tf.constant(1)) # 标量 scalar\n",
    "print(tf.constant([1])) # 向量 vector\n",
    "print(tf.constant([[1],[1]])) # 矩阵 matrix\n",
    "\n",
    "print(tf.constant(1)) # 整型 int\n",
    "print(tf.constant(1.)) # 单精度浮点型 float\n",
    "print(tf.constant(1.,dtype=tf.double)) # 双精度浮点型 double\n",
    "print(tf.constant([True,False])) # 布尔型 bool\n",
    "print(tf.constant('hello word')) # 字符串 string\n"
   ]
  },
  {
   "cell_type": "markdown",
   "metadata": {},
   "source": [
    "Tensor的属性和方法"
   ]
  },
  {
   "cell_type": "code",
   "execution_count": 4,
   "metadata": {},
   "outputs": [
    {
     "name": "stdout",
     "output_type": "stream",
     "text": [
      "WARNING:tensorflow:From C:\\Users\\86188\\AppData\\Local\\Temp\\ipykernel_21796\\1425067683.py:1: _EagerTensorBase.gpu (from tensorflow.python.framework.ops) is deprecated and will be removed in a future version.\n",
      "Instructions for updating:\n",
      "Use tf.identity instead.\n",
      "WARNING:tensorflow:From C:\\Users\\86188\\AppData\\Local\\Temp\\ipykernel_21796\\1425067683.py:2: _EagerTensorBase.cpu (from tensorflow.python.framework.ops) is deprecated and will be removed in a future version.\n",
      "Instructions for updating:\n",
      "Use tf.identity instead.\n",
      "[1]\n",
      "1\n",
      "(1,)\n",
      "<dtype: 'int32'>\n",
      "/job:localhost/replica:0/task:0/device:GPU:0\n"
     ]
    }
   ],
   "source": [
    "a.gpu() # 转换到gpu\n",
    "b.cpu() # 转换到cpu\n",
    "\n",
    "print(b.numpy()) # 转换成numpy\n",
    "\n",
    "print(b.ndim) # 维度\n",
    "print(b.shape) # 形状\n",
    "print(b.dtype) # 类型\n",
    "print(b.device) # 设备"
   ]
  },
  {
   "cell_type": "code",
   "execution_count": 5,
   "metadata": {},
   "outputs": [
    {
     "name": "stdout",
     "output_type": "stream",
     "text": [
      "True\n",
      "True\n"
     ]
    },
    {
     "data": {
      "text/plain": [
       "True"
      ]
     },
     "execution_count": 5,
     "metadata": {},
     "output_type": "execute_result"
    }
   ],
   "source": [
    "# 判断是否tensor\n",
    "print(isinstance(a,tf.Tensor))\n",
    "print(tf.is_tensor(a))\n",
    "\n",
    "\n",
    "# 判断数据类型\n",
    "a.dtype == tf.int32"
   ]
  }
 ],
 "metadata": {
  "kernelspec": {
   "display_name": "base",
   "language": "python",
   "name": "python3"
  },
  "language_info": {
   "codemirror_mode": {
    "name": "ipython",
    "version": 3
   },
   "file_extension": ".py",
   "mimetype": "text/x-python",
   "name": "python",
   "nbconvert_exporter": "python",
   "pygments_lexer": "ipython3",
   "version": "3.9.13"
  },
  "orig_nbformat": 4
 },
 "nbformat": 4,
 "nbformat_minor": 2
}
