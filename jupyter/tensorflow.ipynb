{
 "cells": [
  {
   "cell_type": "markdown",
   "metadata": {},
   "source": [
    "导库"
   ]
  },
  {
   "cell_type": "code",
   "execution_count": 1,
   "metadata": {},
   "outputs": [],
   "source": [
    "import numpy as np\n",
    "import tensorflow as tf"
   ]
  },
  {
   "cell_type": "markdown",
   "metadata": {},
   "source": [
    "创建数据(Tensor)"
   ]
  },
  {
   "cell_type": "code",
   "execution_count": 2,
   "metadata": {},
   "outputs": [
    {
     "name": "stdout",
     "output_type": "stream",
     "text": [
      "/job:localhost/replica:0/task:0/device:CPU:0\n",
      "/job:localhost/replica:0/task:0/device:GPU:0\n"
     ]
    }
   ],
   "source": [
    "# 不同硬件上创建数据\n",
    "with tf.device(\"cpu\"):\n",
    "    a = tf.constant([1])\n",
    "with tf.device(\"GPU\"):\n",
    "    b = tf.constant([1])\n",
    "print(a.device)\n",
    "print(b.device)"
   ]
  },
  {
   "cell_type": "code",
   "execution_count": 3,
   "metadata": {},
   "outputs": [
    {
     "name": "stdout",
     "output_type": "stream",
     "text": [
      "tf.Tensor(1, shape=(), dtype=int32)\n",
      "tf.Tensor([1], shape=(1,), dtype=int32)\n",
      "tf.Tensor(\n",
      "[[1]\n",
      " [1]], shape=(2, 1), dtype=int32)\n",
      "tf.Tensor(1, shape=(), dtype=int32)\n",
      "tf.Tensor(1.0, shape=(), dtype=float32)\n",
      "tf.Tensor(1.0, shape=(), dtype=float64)\n",
      "tf.Tensor([ True False], shape=(2,), dtype=bool)\n",
      "tf.Tensor(b'hello word', shape=(), dtype=string)\n"
     ]
    }
   ],
   "source": [
    "print(tf.constant(1)) # 标量 scalar\n",
    "print(tf.constant([1])) # 向量 vector\n",
    "print(tf.constant([[1],[1]])) # 矩阵 matrix\n",
    "\n",
    "print(tf.constant(1)) # 整型 int\n",
    "print(tf.constant(1.)) # 单精度浮点型 float\n",
    "print(tf.constant(1.,dtype=tf.double)) # 双精度浮点型 double\n",
    "print(tf.constant([True,False])) # 布尔型 bool\n",
    "print(tf.constant('hello word')) # 字符串 string"
   ]
  },
  {
   "cell_type": "code",
   "execution_count": 4,
   "metadata": {},
   "outputs": [
    {
     "name": "stdout",
     "output_type": "stream",
     "text": [
      "True\n",
      "True\n"
     ]
    },
    {
     "data": {
      "text/plain": [
       "True"
      ]
     },
     "execution_count": 4,
     "metadata": {},
     "output_type": "execute_result"
    }
   ],
   "source": [
    "# 判断是否tensor\n",
    "print(isinstance(a,tf.Tensor))\n",
    "print(tf.is_tensor(a))\n",
    "\n",
    "\n",
    "# 判断数据类型\n",
    "a.dtype == tf.int32"
   ]
  },
  {
   "cell_type": "markdown",
   "metadata": {},
   "source": [
    "Tensor的属性"
   ]
  },
  {
   "cell_type": "code",
   "execution_count": 5,
   "metadata": {},
   "outputs": [
    {
     "name": "stdout",
     "output_type": "stream",
     "text": [
      "input_data:0\n",
      "1\n",
      "(1,)\n",
      "<dtype: 'int32'>\n",
      "/job:localhost/replica:0/task:0/device:GPU:0\n",
      "True\n"
     ]
    }
   ],
   "source": [
    "d = tf.Variable(b,name='input_data') # 转换为可求导\n",
    "\n",
    "print(d.name) # 名称\n",
    "print(b.ndim) # 维度1\n",
    "print(b.shape) # 形状\n",
    "print(b.dtype) # 类型\n",
    "print(b.device) # 设备\n",
    "print(d.trainable) # 判断可求导"
   ]
  },
  {
   "cell_type": "markdown",
   "metadata": {},
   "source": [
    "Tensor的方法"
   ]
  },
  {
   "cell_type": "code",
   "execution_count": 7,
   "metadata": {},
   "outputs": [
    {
     "name": "stdout",
     "output_type": "stream",
     "text": [
      "[1]\n",
      "tf.Tensor(0.0, shape=(), dtype=float32)\n",
      "tf.Tensor([[0]], shape=(1, 1), dtype=int32)\n",
      "tf.Tensor(1.0, shape=(), dtype=float32)\n",
      "tf.Tensor([[1]], shape=(1, 1), dtype=int32)\n",
      "1\n"
     ]
    }
   ],
   "source": [
    "a.gpu() # 转换到gpu\n",
    "b.cpu() # 转换到cpu\n",
    "\n",
    "print(b.numpy()) # 转换成numpy\n",
    "\n",
    "print(tf.zeros([])) # 创建全0的Tensor\n",
    "print(tf.zeros_like([b])) # 创建一个形状一样的全为0的Tensor\n",
    "print(tf.ones([])) # 创建全1的Tensor\n",
    "print(tf.ones_like([b])) # 创建一个形状一样的全为1的Tensor\n",
    "c = tf.convert_to_tensor([0,1],dtype=tf.int8) # 转换成tensor\n",
    "tf.cast(c,dtype=tf.bool) # 转换类型\n",
    "d = tf.Variable(b) # 转换为可求导\n",
    "print(int(a)) # 转换为int"
   ]
  },
  {
   "cell_type": "code",
   "execution_count": 25,
   "metadata": {},
   "outputs": [
    {
     "data": {
      "text/plain": [
       "tf.int32"
      ]
     },
     "execution_count": 25,
     "metadata": {},
     "output_type": "execute_result"
    }
   ],
   "source": [
    "\n"
   ]
  },
  {
   "cell_type": "code",
   "execution_count": 10,
   "metadata": {},
   "outputs": [],
   "source": []
  },
  {
   "cell_type": "code",
   "execution_count": 19,
   "metadata": {},
   "outputs": [],
   "source": []
  }
 ],
 "metadata": {
  "kernelspec": {
   "display_name": "base",
   "language": "python",
   "name": "python3"
  },
  "language_info": {
   "codemirror_mode": {
    "name": "ipython",
    "version": 3
   },
   "file_extension": ".py",
   "mimetype": "text/x-python",
   "name": "python",
   "nbconvert_exporter": "python",
   "pygments_lexer": "ipython3",
   "version": "3.9.13"
  },
  "orig_nbformat": 4
 },
 "nbformat": 4,
 "nbformat_minor": 2
}
